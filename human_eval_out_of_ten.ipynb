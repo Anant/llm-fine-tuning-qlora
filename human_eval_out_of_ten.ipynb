{
 "cells": [
  {
   "cell_type": "code",
   "execution_count": 87,
   "metadata": {},
   "outputs": [
    {
     "name": "stdout",
     "output_type": "stream",
     "text": [
      "Requirement already satisfied: astrapy in /workspace/.pyenv_mirror/user/current/lib/python3.12/site-packages (0.7.7)\n",
      "Requirement already satisfied: python-dotenv in /workspace/.pyenv_mirror/user/current/lib/python3.12/site-packages (1.0.1)\n",
      "Requirement already satisfied: pandas in /workspace/.pyenv_mirror/user/current/lib/python3.12/site-packages (2.2.1)\n",
      "Requirement already satisfied: datasets in /workspace/.pyenv_mirror/user/current/lib/python3.12/site-packages (2.18.0)\n",
      "Requirement already satisfied: cassio<0.2.0,>=0.1.4 in /workspace/.pyenv_mirror/user/current/lib/python3.12/site-packages (from astrapy) (0.1.5)\n",
      "Requirement already satisfied: deprecation<2.2.0,>=2.1.0 in /workspace/.pyenv_mirror/user/current/lib/python3.12/site-packages (from astrapy) (2.1.0)\n",
      "Requirement already satisfied: httpx<1,>=0.25.2 in /home/gitpod/.pyenv/versions/3.12.2/lib/python3.12/site-packages (from httpx[http2]<1,>=0.25.2->astrapy) (0.27.0)\n",
      "Requirement already satisfied: toml<0.11.0,>=0.10.2 in /workspace/.pyenv_mirror/user/current/lib/python3.12/site-packages (from astrapy) (0.10.2)\n",
      "Requirement already satisfied: numpy<2,>=1.26.0 in /workspace/.pyenv_mirror/user/current/lib/python3.12/site-packages (from pandas) (1.26.4)\n",
      "Requirement already satisfied: python-dateutil>=2.8.2 in /home/gitpod/.pyenv/versions/3.12.2/lib/python3.12/site-packages (from pandas) (2.9.0.post0)\n",
      "Requirement already satisfied: pytz>=2020.1 in /workspace/.pyenv_mirror/user/current/lib/python3.12/site-packages (from pandas) (2024.1)\n",
      "Requirement already satisfied: tzdata>=2022.7 in /workspace/.pyenv_mirror/user/current/lib/python3.12/site-packages (from pandas) (2024.1)\n",
      "Requirement already satisfied: filelock in /home/gitpod/.pyenv/versions/3.12.2/lib/python3.12/site-packages (from datasets) (3.13.1)\n",
      "Requirement already satisfied: pyarrow>=12.0.0 in /workspace/.pyenv_mirror/user/current/lib/python3.12/site-packages (from datasets) (15.0.2)\n",
      "Requirement already satisfied: pyarrow-hotfix in /workspace/.pyenv_mirror/user/current/lib/python3.12/site-packages (from datasets) (0.6)\n",
      "Requirement already satisfied: dill<0.3.9,>=0.3.0 in /home/gitpod/.pyenv/versions/3.12.2/lib/python3.12/site-packages (from datasets) (0.3.8)\n",
      "Requirement already satisfied: requests>=2.19.0 in /home/gitpod/.pyenv/versions/3.12.2/lib/python3.12/site-packages (from datasets) (2.31.0)\n",
      "Requirement already satisfied: tqdm>=4.62.1 in /workspace/.pyenv_mirror/user/current/lib/python3.12/site-packages (from datasets) (4.66.2)\n",
      "Requirement already satisfied: xxhash in /workspace/.pyenv_mirror/user/current/lib/python3.12/site-packages (from datasets) (3.4.1)\n",
      "Requirement already satisfied: multiprocess in /workspace/.pyenv_mirror/user/current/lib/python3.12/site-packages (from datasets) (0.70.16)\n",
      "Requirement already satisfied: fsspec<=2024.2.0,>=2023.1.0 in /workspace/.pyenv_mirror/user/current/lib/python3.12/site-packages (from fsspec[http]<=2024.2.0,>=2023.1.0->datasets) (2024.2.0)\n",
      "Requirement already satisfied: aiohttp in /workspace/.pyenv_mirror/user/current/lib/python3.12/site-packages (from datasets) (3.9.3)\n",
      "Requirement already satisfied: huggingface-hub>=0.19.4 in /workspace/.pyenv_mirror/user/current/lib/python3.12/site-packages (from datasets) (0.22.2)\n",
      "Requirement already satisfied: packaging in /workspace/.pyenv_mirror/user/current/lib/python3.12/site-packages (from datasets) (23.2)\n",
      "Requirement already satisfied: pyyaml>=5.1 in /home/gitpod/.pyenv/versions/3.12.2/lib/python3.12/site-packages (from datasets) (6.0.1)\n",
      "Requirement already satisfied: cassandra-driver>=3.28.0 in /workspace/.pyenv_mirror/user/current/lib/python3.12/site-packages (from cassio<0.2.0,>=0.1.4->astrapy) (3.29.1)\n",
      "Requirement already satisfied: aiosignal>=1.1.2 in /workspace/.pyenv_mirror/user/current/lib/python3.12/site-packages (from aiohttp->datasets) (1.3.1)\n",
      "Requirement already satisfied: attrs>=17.3.0 in /home/gitpod/.pyenv/versions/3.12.2/lib/python3.12/site-packages (from aiohttp->datasets) (23.2.0)\n",
      "Requirement already satisfied: frozenlist>=1.1.1 in /workspace/.pyenv_mirror/user/current/lib/python3.12/site-packages (from aiohttp->datasets) (1.4.1)\n",
      "Requirement already satisfied: multidict<7.0,>=4.5 in /workspace/.pyenv_mirror/user/current/lib/python3.12/site-packages (from aiohttp->datasets) (6.0.5)\n",
      "Requirement already satisfied: yarl<2.0,>=1.0 in /workspace/.pyenv_mirror/user/current/lib/python3.12/site-packages (from aiohttp->datasets) (1.9.4)\n",
      "Requirement already satisfied: anyio in /home/gitpod/.pyenv/versions/3.12.2/lib/python3.12/site-packages (from httpx<1,>=0.25.2->httpx[http2]<1,>=0.25.2->astrapy) (4.3.0)\n",
      "Requirement already satisfied: certifi in /home/gitpod/.pyenv/versions/3.12.2/lib/python3.12/site-packages (from httpx<1,>=0.25.2->httpx[http2]<1,>=0.25.2->astrapy) (2024.2.2)\n",
      "Requirement already satisfied: httpcore==1.* in /home/gitpod/.pyenv/versions/3.12.2/lib/python3.12/site-packages (from httpx<1,>=0.25.2->httpx[http2]<1,>=0.25.2->astrapy) (1.0.4)\n",
      "Requirement already satisfied: idna in /home/gitpod/.pyenv/versions/3.12.2/lib/python3.12/site-packages (from httpx<1,>=0.25.2->httpx[http2]<1,>=0.25.2->astrapy) (3.6)\n",
      "Requirement already satisfied: sniffio in /home/gitpod/.pyenv/versions/3.12.2/lib/python3.12/site-packages (from httpx<1,>=0.25.2->httpx[http2]<1,>=0.25.2->astrapy) (1.3.1)\n",
      "Requirement already satisfied: h11<0.15,>=0.13 in /home/gitpod/.pyenv/versions/3.12.2/lib/python3.12/site-packages (from httpcore==1.*->httpx<1,>=0.25.2->httpx[http2]<1,>=0.25.2->astrapy) (0.14.0)\n",
      "Requirement already satisfied: h2<5,>=3 in /workspace/.pyenv_mirror/user/current/lib/python3.12/site-packages (from httpx[http2]<1,>=0.25.2->astrapy) (4.1.0)\n",
      "Requirement already satisfied: typing-extensions>=3.7.4.3 in /home/gitpod/.pyenv/versions/3.12.2/lib/python3.12/site-packages (from huggingface-hub>=0.19.4->datasets) (4.10.0)\n",
      "Requirement already satisfied: six>=1.5 in /home/gitpod/.pyenv/versions/3.12.2/lib/python3.12/site-packages (from python-dateutil>=2.8.2->pandas) (1.16.0)\n",
      "Requirement already satisfied: charset-normalizer<4,>=2 in /home/gitpod/.pyenv/versions/3.12.2/lib/python3.12/site-packages (from requests>=2.19.0->datasets) (3.3.2)\n",
      "Requirement already satisfied: urllib3<3,>=1.21.1 in /home/gitpod/.pyenv/versions/3.12.2/lib/python3.12/site-packages (from requests>=2.19.0->datasets) (2.2.1)\n",
      "Requirement already satisfied: geomet<0.3,>=0.1 in /workspace/.pyenv_mirror/user/current/lib/python3.12/site-packages (from cassandra-driver>=3.28.0->cassio<0.2.0,>=0.1.4->astrapy) (0.2.1.post1)\n",
      "Requirement already satisfied: hyperframe<7,>=6.0 in /workspace/.pyenv_mirror/user/current/lib/python3.12/site-packages (from h2<5,>=3->httpx[http2]<1,>=0.25.2->astrapy) (6.0.1)\n",
      "Requirement already satisfied: hpack<5,>=4.0 in /workspace/.pyenv_mirror/user/current/lib/python3.12/site-packages (from h2<5,>=3->httpx[http2]<1,>=0.25.2->astrapy) (4.0.0)\n",
      "Requirement already satisfied: click in /workspace/.pyenv_mirror/user/current/lib/python3.12/site-packages (from geomet<0.3,>=0.1->cassandra-driver>=3.28.0->cassio<0.2.0,>=0.1.4->astrapy) (8.1.7)\n",
      "Note: you may need to restart the kernel to use updated packages.\n"
     ]
    }
   ],
   "source": [
    "%pip install astrapy python-dotenv pandas datasets"
   ]
  },
  {
   "cell_type": "code",
   "execution_count": 104,
   "metadata": {},
   "outputs": [],
   "source": [
    "import json\n",
    "from astrapy.db import AstraDBCollection, AstraDB\n",
    "import os\n",
    "from dotenv import load_dotenv\n",
    "import pandas as pd\n",
    "from datasets import Dataset\n",
    "from pprint import pprint\n",
    "import random\n",
    "from IPython.display import clear_output\n",
    "import time"
   ]
  },
  {
   "cell_type": "code",
   "execution_count": 89,
   "metadata": {},
   "outputs": [],
   "source": [
    "load_dotenv()\n",
    "# AstraDB connection information\n",
    "token = os.getenv(\"token\")\n",
    "endpoint = os.getenv(\"endpoint\")\n",
    "\n",
    "collection_name = \"test_instructions\"\n",
    "astra_db = AstraDB(token=token, api_endpoint=endpoint)\n",
    "collection = AstraDBCollection(collection_name=collection_name, astra_db=astra_db)"
   ]
  },
  {
   "cell_type": "code",
   "execution_count": 90,
   "metadata": {},
   "outputs": [
    {
     "name": "stderr",
     "output_type": "stream",
     "text": [
      "Filter: 100%|██████████| 500/500 [00:00<00:00, 54160.58 examples/s]\n",
      "Flattening the indices: 100%|██████████| 100/100 [00:00<00:00, 21568.98 examples/s]\n"
     ]
    }
   ],
   "source": [
    "nextPageState = \"\"\n",
    "raw_dataset = []\n",
    "expected_columns = ['_id','instruction', 'input', 'output', 'original_response', 'fine_tuned_response']\n",
    "\n",
    "def check_expected_columns(raw_instruction):\n",
    "  if all(column in raw_instruction for column in expected_columns):\n",
    "    return True\n",
    "  else:\n",
    "    return False\n",
    "\n",
    "while nextPageState != None:\n",
    "  if nextPageState == \"\":\n",
    "    data = collection.find()\n",
    "    nextPageState = data['data']['nextPageState']\n",
    "    raw_instructions = [instruction for instruction in data['data']['documents'] if check_expected_columns(instruction)]\n",
    "    raw_dataset.extend(raw_instructions)\n",
    "  else:\n",
    "    data = collection.find(options={\"pageState\":nextPageState}, sort = None)\n",
    "    nextPageState = data['data']['nextPageState']\n",
    "    raw_instructions = [instruction for instruction in data['data']['documents'] if check_expected_columns(instruction)]\n",
    "    raw_dataset.extend(raw_instructions)\n",
    "\n",
    "dataframe = pd.DataFrame(data=raw_dataset, dtype='string')\n",
    "#dataframe.info()\n",
    "dataset = Dataset.from_pandas(dataframe)\n",
    "#pprint(dataset[0])\n",
    "\n",
    "idx_min = 0\n",
    "idx_max = 100\n",
    "partial_dataset = dataset.filter(lambda example, idx: idx >= idx_min and idx < idx_max, with_indices=True)\n",
    "shuffled_dataset = partial_dataset.shuffle().flatten_indices()"
   ]
  },
  {
   "cell_type": "code",
   "execution_count": 91,
   "metadata": {},
   "outputs": [],
   "source": [
    "def split_long_string(string, width):\n",
    "    if len(string) > width:\n",
    "        return [string[0:width]]+split_long_string(string[width:], width)\n",
    "    else:\n",
    "        return [string]\n",
    "        \n",
    "def print_two_columns(string1, string2, width):\n",
    "    i = 0\n",
    "    list1 = [ split_long_string(line, width) for line in string1.split(\"\\n\") ]\n",
    "    list2 = [ split_long_string(line, width) for line in string2.split(\"\\n\") ]\n",
    "    lines1 = [item for row in list1 for item in row]\n",
    "    lines2 = [item for row in list2 for item in row]\n",
    "    max_len = max(len(lines1), len(lines2))\n",
    "    table = []\n",
    "    padding = 10\n",
    "    col_width = width + padding\n",
    "    for i in range(max_len):\n",
    "        column1 = \"\"\n",
    "        column2 = \"\"\n",
    "        if i < len(lines1):\n",
    "            column1 = lines1[i]\n",
    "        if i < len(lines2):\n",
    "            column2 = lines2[i]\n",
    "        row = [column1, column2]\n",
    "        table.append(row)\n",
    "    for row in table:\n",
    "        format_string = \"{:>\"+str(col_width)+\"} {:>\"+str(col_width)+\"}\"\n",
    "        print(format_string.format(*row))\n",
    "\n"
   ]
  },
  {
   "cell_type": "code",
   "execution_count": 98,
   "metadata": {},
   "outputs": [],
   "source": [
    "user_name = \"oby\""
   ]
  },
  {
   "cell_type": "code",
   "execution_count": 105,
   "metadata": {},
   "outputs": [
    {
     "name": "stdout",
     "output_type": "stream",
     "text": [
      "Rate each of the following responses to the input prompt out of ten.\n",
      "Instruction: \n",
      "'Explain any Caveats or Cautions noted in the Article.'\n",
      "Context:\n",
      "('Secondary Indexes in Cassandra can cause performance issues, especially if a '\n",
      " 'query needs to access multiple nodes. They should only be used on columns or '\n",
      " 'tables with low cardinality, no counters, infrequent updates, or without '\n",
      " 'large partitions. Additionally, avoid using secondary indexes on high '\n",
      " 'cardinality columns, tables that are frequently updated, or for ranged '\n",
      " \"queries (> or <) due to limitations in Cassandra's indexing mechanism.\")\n",
      "\n",
      "\n",
      "                                                                   Response #1:                                                                     Response #2: \n",
      "                                                                                                                                                                 \n",
      "                                                                                            When using Secondary Indexes in Cassandra, it's crucial to consider t\n",
      "                                                                                           he cardinality of your columns, the update frequency of your tables, a\n",
      "                                                                     ### Author:           nd the nature of your queries. Avoid using them on high cardinality co\n",
      "                                                                                           lumns, frequently updated tables, or for ranged queries to prevent per\n",
      "                                                                                                                     formance degradation or unexpected outcomes.\n",
      "                                                                      ### Links:                                                                                 \n",
      "                                                                                                                                                                 \n",
      "                                                                                                                                                                 \n"
     ]
    },
    {
     "ename": "KeyboardInterrupt",
     "evalue": "",
     "output_type": "error",
     "traceback": [
      "\u001b[0;31m---------------------------------------------------------------------------\u001b[0m",
      "\u001b[0;31mKeyboardInterrupt\u001b[0m                         Traceback (most recent call last)",
      "\u001b[1;32m/workspace/llm-fine-tuning-qlora/human_eval_out_of_ten.ipynb Cell 7\u001b[0m line \u001b[0;36m1\n\u001b[1;32m     <a href='vscode-notebook-cell://anant-llmfinetuningqlo-o3ytu9wmpiy.ws-us110.gitpod.io/workspace/llm-fine-tuning-qlora/human_eval_out_of_ten.ipynb#X10sdnNjb2RlLXJlbW90ZQ%3D%3D?line=13'>14</a>\u001b[0m \u001b[39mprint\u001b[39m(\u001b[39m\"\u001b[39m\u001b[39m\\n\u001b[39;00m\u001b[39m\"\u001b[39m)\n\u001b[1;32m     <a href='vscode-notebook-cell://anant-llmfinetuningqlo-o3ytu9wmpiy.ws-us110.gitpod.io/workspace/llm-fine-tuning-qlora/human_eval_out_of_ten.ipynb#X10sdnNjb2RlLXJlbW90ZQ%3D%3D?line=14'>15</a>\u001b[0m print_two_columns(responses[\u001b[39m0\u001b[39m], responses[\u001b[39m1\u001b[39m], \u001b[39m70\u001b[39m)\n\u001b[0;32m---> <a href='vscode-notebook-cell://anant-llmfinetuningqlo-o3ytu9wmpiy.ws-us110.gitpod.io/workspace/llm-fine-tuning-qlora/human_eval_out_of_ten.ipynb#X10sdnNjb2RlLXJlbW90ZQ%3D%3D?line=15'>16</a>\u001b[0m time\u001b[39m.\u001b[39;49msleep(\u001b[39m5\u001b[39;49m)\n\u001b[1;32m     <a href='vscode-notebook-cell://anant-llmfinetuningqlo-o3ytu9wmpiy.ws-us110.gitpod.io/workspace/llm-fine-tuning-qlora/human_eval_out_of_ten.ipynb#X10sdnNjb2RlLXJlbW90ZQ%3D%3D?line=16'>17</a>\u001b[0m row_result \u001b[39m=\u001b[39m \u001b[39minput\u001b[39m(\u001b[39m\"\u001b[39m\u001b[39mPlease enter your ratings as two numbers separated by a comma.\u001b[39m\u001b[39m\"\u001b[39m)\n\u001b[1;32m     <a href='vscode-notebook-cell://anant-llmfinetuningqlo-o3ytu9wmpiy.ws-us110.gitpod.io/workspace/llm-fine-tuning-qlora/human_eval_out_of_ten.ipynb#X10sdnNjb2RlLXJlbW90ZQ%3D%3D?line=17'>18</a>\u001b[0m row_result \u001b[39m=\u001b[39m [\u001b[39mint\u001b[39m(rating) \u001b[39mfor\u001b[39;00m rating \u001b[39min\u001b[39;00m row_result\u001b[39m.\u001b[39msplit(\u001b[39m\"\u001b[39m\u001b[39m,\u001b[39m\u001b[39m\"\u001b[39m)]\n",
      "\u001b[0;31mKeyboardInterrupt\u001b[0m: "
     ]
    }
   ],
   "source": [
    "eval_responses = []\n",
    "\n",
    "for row in shuffled_dataset:\n",
    "    order = random.randint(0,1)\n",
    "    if order == 0:\n",
    "        responses = [\"Response #1: \\n\"+row['original_response'], \"Response #2: \\n\"+row['fine_tuned_response']]\n",
    "    else:\n",
    "        responses = [\"Response #1: \\n\"+row['fine_tuned_response'], \"Response #2: \\n\"+row['original_response']]\n",
    "    print(\"Rate each of the following responses to the input prompt out of ten.\")\n",
    "    print(\"Instruction: \")\n",
    "    pprint(row['instruction'])\n",
    "    print(\"Context:\")\n",
    "    pprint(row['input'])\n",
    "    print(\"\\n\")\n",
    "    print_two_columns(responses[0], responses[1], 70)\n",
    "    time.sleep(1)\n",
    "    row_result = input(\"Please enter your ratings as two numbers separated by a comma.\")\n",
    "    if \",\" in row_result:\n",
    "        row_result = [int(rating) for rating in row_result.split(\",\")]\n",
    "    if \".\" in row_result:\n",
    "        row_result = [int(rating) for rating in row_result.split(\".\")]\n",
    "    if \" \" in row_result:\n",
    "        row_result = [int(rating) for rating in row_result.split(\" \")]\n",
    "    original_rating = 0\n",
    "    fine_tuned_rating = 0\n",
    "    if order == 0:\n",
    "        original_rating = row_result[0]\n",
    "        fine_tuned_rating = row_result[1]\n",
    "    else:\n",
    "        original_rating = row_result[1]\n",
    "        fine_tuned_rating = row_result[0]\n",
    "\n",
    "    output_line = {\n",
    "        \"_id\": row['_id'],\n",
    "        \"original_rating\": original_rating,\n",
    "        \"fine_tuned_rating\": fine_tuned_rating\n",
    "    }\n",
    "\n",
    "    eval_responses.append(output_line)\n",
    "    clear_output(wait=True)\n",
    "\n",
    "with open(user_name+'_eval_out_of_ten.json', 'w', encoding='utf-8') as f:\n",
    "    json.dump(eval_responses, f, ensure_ascii=False, indent=4)\n",
    "\n",
    "    "
   ]
  },
  {
   "cell_type": "code",
   "execution_count": null,
   "metadata": {},
   "outputs": [],
   "source": []
  }
 ],
 "metadata": {
  "kernelspec": {
   "display_name": "Python 3",
   "language": "python",
   "name": "python3"
  },
  "language_info": {
   "codemirror_mode": {
    "name": "ipython",
    "version": 3
   },
   "file_extension": ".py",
   "mimetype": "text/x-python",
   "name": "python",
   "nbconvert_exporter": "python",
   "pygments_lexer": "ipython3",
   "version": "3.12.2"
  }
 },
 "nbformat": 4,
 "nbformat_minor": 2
}
